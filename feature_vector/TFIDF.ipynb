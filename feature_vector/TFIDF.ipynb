{
 "cells": [
  {
   "cell_type": "code",
   "execution_count": 1,
   "metadata": {},
   "outputs": [],
   "source": [
    "import pandas as pd\n",
    "from math import log"
   ]
  },
  {
   "cell_type": "code",
   "execution_count": 2,
   "metadata": {},
   "outputs": [],
   "source": [
    "docs = ['i like this movie', 'i like this pasta', 'i love sam']"
   ]
  },
  {
   "cell_type": "code",
   "execution_count": 3,
   "metadata": {},
   "outputs": [],
   "source": [
    "vocab = list(set(w for doc in docs for w in doc.split()))"
   ]
  },
  {
   "cell_type": "code",
   "execution_count": 4,
   "metadata": {},
   "outputs": [
    {
     "name": "stdout",
     "output_type": "stream",
     "text": [
      "['like', 'love', 'i', 'this', 'sam', 'pasta', 'movie']\n"
     ]
    }
   ],
   "source": [
    "print(vocab)"
   ]
  },
  {
   "cell_type": "code",
   "execution_count": 5,
   "metadata": {},
   "outputs": [],
   "source": [
    "def get_tf(word, doc):\n",
    "    doc_word_list = doc.split()\n",
    "    return doc_word_list.count(word)\n",
    "\n",
    "def get_idf(word):\n",
    "    df = 0\n",
    "    for doc in docs:\n",
    "        doc_word_list = doc.split()\n",
    "        df += word in doc_word_list\n",
    "    return log((len(docs) + 1)/(df + 1)) + 1\n",
    "\n",
    "def get_tfidf(word, doc):\n",
    "    return get_tf(word,doc) * get_idf(word)"
   ]
  },
  {
   "cell_type": "code",
   "execution_count": 6,
   "metadata": {},
   "outputs": [],
   "source": [
    "def get_tf_matrix(docs, vocab):\n",
    "    tf_matrix = []\n",
    "    for doc in docs:\n",
    "        tf_matrix.append([])\n",
    "        for word in vocab:\n",
    "            tf_score = get_tf(word, doc)\n",
    "            tf_matrix[-1].append(tf_score)\n",
    "    return tf_matrix\n",
    "        "
   ]
  },
  {
   "cell_type": "code",
   "execution_count": 7,
   "metadata": {},
   "outputs": [],
   "source": [
    "def get_idf_matrix(docs, vocab):\n",
    "    idf_matrix = []\n",
    "    for word in vocab:\n",
    "        idf_score = get_idf(word)\n",
    "        idf_matrix.append(idf_score)\n",
    "    return idf_matrix\n",
    "        "
   ]
  },
  {
   "cell_type": "code",
   "execution_count": 8,
   "metadata": {},
   "outputs": [],
   "source": [
    "def get_tfidf_matrix(docs, vocab):\n",
    "    tfidf_matrix = []\n",
    "    for doc in docs:\n",
    "        tfidf_matrix.append([])\n",
    "        for word in vocab:\n",
    "            tfidf_score = get_tfidf(word, doc)\n",
    "            tfidf_matrix[-1].append(tfidf_score)\n",
    "    return tfidf_matrix"
   ]
  },
  {
   "cell_type": "code",
   "execution_count": 9,
   "metadata": {},
   "outputs": [
    {
     "name": "stdout",
     "output_type": "stream",
     "text": [
      "   like  love  i  this  sam  pasta  movie\n",
      "0     1     0  1     1    0      0      1\n",
      "1     1     0  1     1    0      1      0\n",
      "2     0     1  1     0    1      0      0\n",
      "            IDF\n",
      "like   1.287682\n",
      "love   1.693147\n",
      "i      1.000000\n",
      "this   1.287682\n",
      "sam    1.693147\n",
      "pasta  1.693147\n",
      "movie  1.693147\n",
      "['i like this movie', 'i like this pasta', 'i love sam']\n",
      "       like      love    i      this       sam     pasta     movie\n",
      "0  1.287682  0.000000  1.0  1.287682  0.000000  0.000000  1.693147\n",
      "1  1.287682  0.000000  1.0  1.287682  0.000000  1.693147  0.000000\n",
      "2  0.000000  1.693147  1.0  0.000000  1.693147  0.000000  0.000000\n"
     ]
    }
   ],
   "source": [
    "tf_matrix = get_tf_matrix(docs, vocab)\n",
    "idf_matrix = get_idf_matrix(docs, vocab)\n",
    "\n",
    "print(pd.DataFrame(tf_matrix, columns= vocab))\n",
    "print(pd.DataFrame(idf_matrix, index= vocab, columns=[\"IDF\"]))\n",
    "\n",
    "tfidf_matrix = get_tfidf_matrix(docs, vocab)\n",
    "print(docs)\n",
    "print(pd.DataFrame(tfidf_matrix, columns = vocab))"
   ]
  },
  {
   "cell_type": "code",
   "execution_count": 10,
   "metadata": {},
   "outputs": [],
   "source": [
    "from sklearn.feature_extraction.text import TfidfVectorizer"
   ]
  },
  {
   "cell_type": "code",
   "execution_count": 11,
   "metadata": {},
   "outputs": [],
   "source": [
    "docs = ['i like this movie', 'i like this pasta', 'i love sam']"
   ]
  },
  {
   "cell_type": "code",
   "execution_count": 12,
   "metadata": {},
   "outputs": [],
   "source": [
    "tfidf_vectorizer = TfidfVectorizer()\n",
    "\n",
    "# 출처: https://chan-lab.tistory.com/24 [은공지능 공작소]"
   ]
  },
  {
   "cell_type": "code",
   "execution_count": 13,
   "metadata": {},
   "outputs": [
    {
     "data": {
      "text/plain": "TfidfVectorizer()"
     },
     "execution_count": 13,
     "metadata": {},
     "output_type": "execute_result"
    }
   ],
   "source": [
    "tfidf_vectorizer.fit(docs)"
   ]
  },
  {
   "cell_type": "code",
   "execution_count": 14,
   "metadata": {},
   "outputs": [
    {
     "name": "stdout",
     "output_type": "stream",
     "text": [
      "{'like': 0, 'this': 5, 'movie': 2, 'pasta': 3, 'love': 1, 'sam': 4}\n"
     ]
    }
   ],
   "source": [
    "print(tfidf_vectorizer.vocabulary_)"
   ]
  },
  {
   "cell_type": "code",
   "execution_count": 15,
   "metadata": {},
   "outputs": [
    {
     "name": "stdout",
     "output_type": "stream",
     "text": [
      "[[0.51785612 0.         0.68091856 0.         0.         0.51785612]\n",
      " [0.51785612 0.         0.         0.68091856 0.         0.51785612]\n",
      " [0.         0.70710678 0.         0.         0.70710678 0.        ]]\n"
     ]
    }
   ],
   "source": [
    "print(tfidf_vectorizer.transform(docs).toarray())"
   ]
  },
  {
   "cell_type": "code",
   "execution_count": 16,
   "metadata": {},
   "outputs": [],
   "source": [
    "# https://chan-lab.tistory.com/24"
   ]
  },
  {
   "cell_type": "code",
   "execution_count": null,
   "metadata": {},
   "outputs": [],
   "source": []
  }
 ],
 "metadata": {
  "kernelspec": {
   "display_name": "Python 3 (ipykernel)",
   "language": "python",
   "name": "python3"
  },
  "language_info": {
   "codemirror_mode": {
    "name": "ipython",
    "version": 3
   },
   "file_extension": ".py",
   "mimetype": "text/x-python",
   "name": "python",
   "nbconvert_exporter": "python",
   "pygments_lexer": "ipython3",
   "version": "3.8.10"
  },
  "orig_nbformat": 2
 },
 "nbformat": 4,
 "nbformat_minor": 2
}