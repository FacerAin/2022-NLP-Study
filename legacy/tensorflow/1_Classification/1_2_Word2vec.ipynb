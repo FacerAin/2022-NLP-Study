{
 "cells": [
  {
   "cell_type": "code",
   "execution_count": 42,
   "metadata": {},
   "outputs": [],
   "source": [
    "import pandas as pd\n",
    "import numpy as np\n",
    "import os"
   ]
  },
  {
   "cell_type": "code",
   "execution_count": 2,
   "metadata": {},
   "outputs": [],
   "source": [
    "DATA_IN_PATH=\"./data_in/\"\n",
    "TRAIN_CLEAN_DATA = \"train_clean.csv\""
   ]
  },
  {
   "cell_type": "code",
   "execution_count": 5,
   "metadata": {},
   "outputs": [],
   "source": [
    "train_data = pd.read_csv(DATA_IN_PATH + TRAIN_CLEAN_DATA)\n",
    "\n",
    "reviews = list(train_data['review'])\n",
    "sentiments = list(train_data['sentiment'])"
   ]
  },
  {
   "cell_type": "code",
   "execution_count": 6,
   "metadata": {},
   "outputs": [],
   "source": [
    "sentences = []\n",
    "for review in reviews:\n",
    "    sentences.append(review.split())"
   ]
  },
  {
   "cell_type": "code",
   "execution_count": 9,
   "metadata": {},
   "outputs": [
    {
     "name": "stdout",
     "output_type": "stream",
     "text": [
      "[['stuff', 'going', 'moment', 'mj', 'started', 'listening', 'music', 'watching', 'odd', 'documentary', 'watched', 'wiz', 'watched', 'moonwalker', 'maybe', 'want', 'get', 'certain', 'insight', 'guy', 'thought', 'really', 'cool', 'eighties', 'maybe', 'make', 'mind', 'whether', 'guilty', 'innocent', 'moonwalker', 'part', 'biography', 'part', 'feature', 'film', 'remember', 'going', 'see', 'cinema', 'originally', 'released', 'subtle', 'messages', 'mj', 'feeling', 'towards', 'press', 'also', 'obvious', 'message', 'drugs', 'bad', 'kay', 'visually', 'impressive', 'course', 'michael', 'jackson', 'unless', 'remotely', 'like', 'mj', 'anyway', 'going', 'hate', 'find', 'boring', 'may', 'call', 'mj', 'egotist', 'consenting', 'making', 'movie', 'mj', 'fans', 'would', 'say', 'made', 'fans', 'true', 'really', 'nice', 'actual', 'feature', 'film', 'bit', 'finally', 'starts', 'minutes', 'excluding', 'smooth', 'criminal', 'sequence', 'joe', 'pesci', 'convincing', 'psychopathic', 'powerful', 'drug', 'lord', 'wants', 'mj', 'dead', 'bad', 'beyond', 'mj', 'overheard', 'plans', 'nah', 'joe', 'pesci', 'character', 'ranted', 'wanted', 'people', 'know', 'supplying', 'drugs', 'etc', 'dunno', 'maybe', 'hates', 'mj', 'music', 'lots', 'cool', 'things', 'like', 'mj', 'turning', 'car', 'robot', 'whole', 'speed', 'demon', 'sequence', 'also', 'director', 'must', 'patience', 'saint', 'came', 'filming', 'kiddy', 'bad', 'sequence', 'usually', 'directors', 'hate', 'working', 'one', 'kid', 'let', 'alone', 'whole', 'bunch', 'performing', 'complex', 'dance', 'scene', 'bottom', 'line', 'movie', 'people', 'like', 'mj', 'one', 'level', 'another', 'think', 'people', 'stay', 'away', 'try', 'give', 'wholesome', 'message', 'ironically', 'mj', 'bestest', 'buddy', 'movie', 'girl', 'michael', 'jackson', 'truly', 'one', 'talented', 'people', 'ever', 'grace', 'planet', 'guilty', 'well', 'attention', 'gave', 'subject', 'hmmm', 'well', 'know', 'people', 'different', 'behind', 'closed', 'doors', 'know', 'fact', 'either', 'extremely', 'nice', 'stupid', 'guy', 'one', 'sickest', 'liars', 'hope', 'latter'], ['classic', 'war', 'worlds', 'timothy', 'hines', 'entertaining', 'film', 'obviously', 'goes', 'great', 'effort', 'lengths', 'faithfully', 'recreate', 'h', 'g', 'wells', 'classic', 'book', 'mr', 'hines', 'succeeds', 'watched', 'film', 'appreciated', 'fact', 'standard', 'predictable', 'hollywood', 'fare', 'comes', 'every', 'year', 'e', 'g', 'spielberg', 'version', 'tom', 'cruise', 'slightest', 'resemblance', 'book', 'obviously', 'everyone', 'looks', 'different', 'things', 'movie', 'envision', 'amateur', 'critics', 'look', 'criticize', 'everything', 'others', 'rate', 'movie', 'important', 'bases', 'like', 'entertained', 'people', 'never', 'agree', 'critics', 'enjoyed', 'effort', 'mr', 'hines', 'put', 'faithful', 'h', 'g', 'wells', 'classic', 'novel', 'found', 'entertaining', 'made', 'easy', 'overlook', 'critics', 'perceive', 'shortcomings'], ['film', 'starts', 'manager', 'nicholas', 'bell', 'giving', 'welcome', 'investors', 'robert', 'carradine', 'primal', 'park', 'secret', 'project', 'mutating', 'primal', 'animal', 'using', 'fossilized', 'dna', 'like', 'jurassik', 'park', 'scientists', 'resurrect', 'one', 'nature', 'fearsome', 'predators', 'sabretooth', 'tiger', 'smilodon', 'scientific', 'ambition', 'turns', 'deadly', 'however', 'high', 'voltage', 'fence', 'opened', 'creature', 'escape', 'begins', 'savagely', 'stalking', 'prey', 'human', 'visitors', 'tourists', 'scientific', 'meanwhile', 'youngsters', 'enter', 'restricted', 'area', 'security', 'center', 'attacked', 'pack', 'large', 'pre', 'historical', 'animals', 'deadlier', 'bigger', 'addition', 'security', 'agent', 'stacy', 'haiduk', 'mate', 'brian', 'wimmer', 'fight', 'hardly', 'carnivorous', 'smilodons', 'sabretooths', 'course', 'real', 'star', 'stars', 'astounding', 'terrifyingly', 'though', 'convincing', 'giant', 'animals', 'savagely', 'stalking', 'prey', 'group', 'run', 'afoul', 'fight', 'one', 'nature', 'fearsome', 'predators', 'furthermore', 'third', 'sabretooth', 'dangerous', 'slow', 'stalks', 'victims', 'movie', 'delivers', 'goods', 'lots', 'blood', 'gore', 'beheading', 'hair', 'raising', 'chills', 'full', 'scares', 'sabretooths', 'appear', 'mediocre', 'special', 'effects', 'story', 'provides', 'exciting', 'stirring', 'entertainment', 'results', 'quite', 'boring', 'giant', 'animals', 'majority', 'made', 'computer', 'generator', 'seem', 'totally', 'lousy', 'middling', 'performances', 'though', 'players', 'reacting', 'appropriately', 'becoming', 'food', 'actors', 'give', 'vigorously', 'physical', 'performances', 'dodging', 'beasts', 'running', 'bound', 'leaps', 'dangling', 'walls', 'packs', 'ridiculous', 'final', 'deadly', 'scene', 'small', 'kids', 'realistic', 'gory', 'violent', 'attack', 'scenes', 'films', 'sabretooths', 'smilodon', 'following', 'sabretooth', 'james', 'r', 'hickox', 'vanessa', 'angel', 'david', 'keith', 'john', 'rhys', 'davies', 'much', 'better', 'bc', 'roland', 'emmerich', 'steven', 'strait', 'cliff', 'curtis', 'camilla', 'belle', 'motion', 'picture', 'filled', 'bloody', 'moments', 'badly', 'directed', 'george', 'miller', 'originality', 'takes', 'many', 'elements', 'previous', 'films', 'miller', 'australian', 'director', 'usually', 'working', 'television', 'tidal', 'wave', 'journey', 'center', 'earth', 'many', 'others', 'occasionally', 'cinema', 'man', 'snowy', 'river', 'zeus', 'roxanne', 'robinson', 'crusoe', 'rating', 'average', 'bottom', 'barrel']]\n"
     ]
    }
   ],
   "source": [
    "print(sentences[:2])"
   ]
  },
  {
   "cell_type": "code",
   "execution_count": 10,
   "metadata": {},
   "outputs": [],
   "source": [
    "num_features = 300\n",
    "min_word_count = 40\n",
    "num_workers = 4\n",
    "context = 10\n",
    "downsampling = 1e-3"
   ]
  },
  {
   "cell_type": "code",
   "execution_count": 11,
   "metadata": {},
   "outputs": [],
   "source": [
    "import logging\n",
    "logging.basicConfig(format='%(asctime)s : %(levelname)s : %(message)s', level=logging.INFO)"
   ]
  },
  {
   "cell_type": "code",
   "execution_count": 15,
   "metadata": {},
   "outputs": [
    {
     "name": "stderr",
     "output_type": "stream",
     "text": [
      "2021-07-29 14:00:14,067 : INFO : collecting all words and their counts\n",
      "2021-07-29 14:00:14,069 : INFO : PROGRESS: at sentence #0, processed 0 words, keeping 0 word types\n"
     ]
    },
    {
     "name": "stdout",
     "output_type": "stream",
     "text": [
      "Training Model...\n"
     ]
    },
    {
     "name": "stderr",
     "output_type": "stream",
     "text": [
      "2021-07-29 14:00:15,471 : INFO : PROGRESS: at sentence #10000, processed 1205223 words, keeping 51374 word types\n",
      "2021-07-29 14:00:16,688 : INFO : PROGRESS: at sentence #20000, processed 2396605 words, keeping 67660 word types\n",
      "2021-07-29 14:00:17,291 : INFO : collected 74065 word types from a corpus of 2988089 raw words and 25000 sentences\n",
      "2021-07-29 14:00:17,292 : INFO : Creating a fresh vocabulary\n",
      "2021-07-29 14:00:17,766 : INFO : Word2Vec lifecycle event {'msg': 'effective_min_count=40 retains 8160 unique words (11.017349625329103%% of original 74065, drops 65905)', 'datetime': '2021-07-29T14:00:17.693613', 'gensim': '4.0.1', 'python': '3.7.4 (default, Nov  4 2020, 10:17:35) \\n[GCC 7.4.0]', 'platform': 'Linux-4.4.0-1128-aws-x86_64-with-debian-buster-sid', 'event': 'prepare_vocab'}\n",
      "2021-07-29 14:00:17,768 : INFO : Word2Vec lifecycle event {'msg': 'effective_min_count=40 leaves 2627273 word corpus (87.92485765986221%% of original 2988089, drops 360816)', 'datetime': '2021-07-29T14:00:17.768075', 'gensim': '4.0.1', 'python': '3.7.4 (default, Nov  4 2020, 10:17:35) \\n[GCC 7.4.0]', 'platform': 'Linux-4.4.0-1128-aws-x86_64-with-debian-buster-sid', 'event': 'prepare_vocab'}\n",
      "2021-07-29 14:00:18,190 : INFO : deleting the raw counts dictionary of 74065 items\n",
      "2021-07-29 14:00:18,193 : INFO : sample=0.001 downsamples 30 most-common words\n",
      "2021-07-29 14:00:18,267 : INFO : Word2Vec lifecycle event {'msg': 'downsampling leaves estimated 2494384.49928802 word corpus (94.9%% of prior 2627273)', 'datetime': '2021-07-29T14:00:18.267031', 'gensim': '4.0.1', 'python': '3.7.4 (default, Nov  4 2020, 10:17:35) \\n[GCC 7.4.0]', 'platform': 'Linux-4.4.0-1128-aws-x86_64-with-debian-buster-sid', 'event': 'prepare_vocab'}\n",
      "2021-07-29 14:00:18,989 : INFO : estimated required memory for 8160 words and 300 dimensions: 23664000 bytes\n",
      "2021-07-29 14:00:18,997 : INFO : resetting layer weights\n",
      "2021-07-29 14:00:19,093 : INFO : Word2Vec lifecycle event {'update': False, 'trim_rule': 'None', 'datetime': '2021-07-29T14:00:19.093788', 'gensim': '4.0.1', 'python': '3.7.4 (default, Nov  4 2020, 10:17:35) \\n[GCC 7.4.0]', 'platform': 'Linux-4.4.0-1128-aws-x86_64-with-debian-buster-sid', 'event': 'build_vocab'}\n",
      "2021-07-29 14:00:19,095 : INFO : Word2Vec lifecycle event {'msg': 'training model with 4 workers on 8160 vocabulary and 300 features, using sg=0 hs=0 sample=0.001 negative=5 window=10', 'datetime': '2021-07-29T14:00:19.095121', 'gensim': '4.0.1', 'python': '3.7.4 (default, Nov  4 2020, 10:17:35) \\n[GCC 7.4.0]', 'platform': 'Linux-4.4.0-1128-aws-x86_64-with-debian-buster-sid', 'event': 'train'}\n",
      "2021-07-29 14:00:20,274 : INFO : EPOCH 1 - PROGRESS: at 0.97% examples, 22380 words/s, in_qsize 6, out_qsize 1\n",
      "2021-07-29 14:00:21,367 : INFO : EPOCH 1 - PROGRESS: at 3.65% examples, 41152 words/s, in_qsize 8, out_qsize 0\n",
      "2021-07-29 14:00:22,471 : INFO : EPOCH 1 - PROGRESS: at 5.64% examples, 42459 words/s, in_qsize 7, out_qsize 0\n",
      "2021-07-29 14:00:23,572 : INFO : EPOCH 1 - PROGRESS: at 7.53% examples, 43144 words/s, in_qsize 7, out_qsize 0\n",
      "2021-07-29 14:00:24,772 : INFO : EPOCH 1 - PROGRESS: at 9.51% examples, 42750 words/s, in_qsize 7, out_qsize 0\n",
      "2021-07-29 14:00:25,866 : INFO : EPOCH 1 - PROGRESS: at 11.52% examples, 43173 words/s, in_qsize 7, out_qsize 0\n",
      "2021-07-29 14:00:26,976 : INFO : EPOCH 1 - PROGRESS: at 13.48% examples, 43389 words/s, in_qsize 8, out_qsize 0\n",
      "2021-07-29 14:00:28,080 : INFO : EPOCH 1 - PROGRESS: at 15.35% examples, 43532 words/s, in_qsize 7, out_qsize 0\n",
      "2021-07-29 14:00:29,182 : INFO : EPOCH 1 - PROGRESS: at 16.94% examples, 42854 words/s, in_qsize 7, out_qsize 0\n",
      "2021-07-29 14:00:30,383 : INFO : EPOCH 1 - PROGRESS: at 18.92% examples, 42687 words/s, in_qsize 7, out_qsize 0\n",
      "2021-07-29 14:00:31,576 : INFO : EPOCH 1 - PROGRESS: at 21.17% examples, 43260 words/s, in_qsize 7, out_qsize 0\n",
      "2021-07-29 14:00:32,677 : INFO : EPOCH 1 - PROGRESS: at 23.25% examples, 43404 words/s, in_qsize 8, out_qsize 0\n",
      "2021-07-29 14:00:33,867 : INFO : EPOCH 1 - PROGRESS: at 24.98% examples, 42718 words/s, in_qsize 7, out_qsize 0\n",
      "2021-07-29 14:00:35,298 : INFO : EPOCH 1 - PROGRESS: at 27.52% examples, 43021 words/s, in_qsize 7, out_qsize 0\n",
      "2021-07-29 14:00:36,369 : INFO : EPOCH 1 - PROGRESS: at 29.82% examples, 43735 words/s, in_qsize 7, out_qsize 0\n",
      "2021-07-29 14:00:37,473 : INFO : EPOCH 1 - PROGRESS: at 31.89% examples, 43811 words/s, in_qsize 7, out_qsize 0\n",
      "2021-07-29 14:00:38,586 : INFO : EPOCH 1 - PROGRESS: at 33.49% examples, 43415 words/s, in_qsize 7, out_qsize 0\n",
      "2021-07-29 14:00:39,867 : INFO : EPOCH 1 - PROGRESS: at 35.38% examples, 43119 words/s, in_qsize 7, out_qsize 0\n",
      "2021-07-29 14:00:40,876 : INFO : EPOCH 1 - PROGRESS: at 37.70% examples, 43800 words/s, in_qsize 7, out_qsize 0\n",
      "2021-07-29 14:00:41,978 : INFO : EPOCH 1 - PROGRESS: at 39.47% examples, 43501 words/s, in_qsize 7, out_qsize 0\n",
      "2021-07-29 14:00:42,978 : INFO : EPOCH 1 - PROGRESS: at 41.79% examples, 44107 words/s, in_qsize 7, out_qsize 0\n",
      "2021-07-29 14:00:44,273 : INFO : EPOCH 1 - PROGRESS: at 43.72% examples, 43807 words/s, in_qsize 7, out_qsize 0\n",
      "2021-07-29 14:00:45,366 : INFO : EPOCH 1 - PROGRESS: at 45.78% examples, 43870 words/s, in_qsize 8, out_qsize 0\n",
      "2021-07-29 14:00:46,369 : INFO : EPOCH 1 - PROGRESS: at 47.42% examples, 43775 words/s, in_qsize 8, out_qsize 0\n",
      "2021-07-29 14:00:47,470 : INFO : EPOCH 1 - PROGRESS: at 49.04% examples, 43541 words/s, in_qsize 7, out_qsize 0\n",
      "2021-07-29 14:00:48,571 : INFO : EPOCH 1 - PROGRESS: at 51.72% examples, 44173 words/s, in_qsize 7, out_qsize 0\n",
      "2021-07-29 14:00:49,671 : INFO : EPOCH 1 - PROGRESS: at 53.58% examples, 44206 words/s, in_qsize 7, out_qsize 0\n",
      "2021-07-29 14:00:50,769 : INFO : EPOCH 1 - PROGRESS: at 55.50% examples, 44238 words/s, in_qsize 7, out_qsize 0\n",
      "2021-07-29 14:00:51,868 : INFO : EPOCH 1 - PROGRESS: at 57.58% examples, 44272 words/s, in_qsize 7, out_qsize 0\n",
      "2021-07-29 14:00:52,979 : INFO : EPOCH 1 - PROGRESS: at 59.60% examples, 44293 words/s, in_qsize 7, out_qsize 0\n",
      "2021-07-29 14:00:54,268 : INFO : EPOCH 1 - PROGRESS: at 61.68% examples, 44088 words/s, in_qsize 7, out_qsize 0\n",
      "2021-07-29 14:00:55,466 : INFO : EPOCH 1 - PROGRESS: at 63.72% examples, 44014 words/s, in_qsize 7, out_qsize 0\n",
      "2021-07-29 14:00:56,568 : INFO : EPOCH 1 - PROGRESS: at 66.06% examples, 44273 words/s, in_qsize 7, out_qsize 0\n",
      "2021-07-29 14:00:57,985 : INFO : EPOCH 1 - PROGRESS: at 68.05% examples, 43956 words/s, in_qsize 8, out_qsize 1\n",
      "2021-07-29 14:00:59,186 : INFO : EPOCH 1 - PROGRESS: at 70.66% examples, 44275 words/s, in_qsize 7, out_qsize 0\n",
      "2021-07-29 14:01:00,395 : INFO : EPOCH 1 - PROGRESS: at 72.61% examples, 44201 words/s, in_qsize 8, out_qsize 0\n",
      "2021-07-29 14:01:01,667 : INFO : EPOCH 1 - PROGRESS: at 74.65% examples, 44020 words/s, in_qsize 7, out_qsize 0\n",
      "2021-07-29 14:01:02,866 : INFO : EPOCH 1 - PROGRESS: at 76.62% examples, 43952 words/s, in_qsize 7, out_qsize 0\n",
      "2021-07-29 14:01:03,867 : INFO : EPOCH 1 - PROGRESS: at 78.75% examples, 44085 words/s, in_qsize 7, out_qsize 0\n",
      "2021-07-29 14:01:04,875 : INFO : EPOCH 1 - PROGRESS: at 80.47% examples, 44016 words/s, in_qsize 7, out_qsize 0\n",
      "2021-07-29 14:01:06,476 : INFO : EPOCH 1 - PROGRESS: at 83.01% examples, 43932 words/s, in_qsize 6, out_qsize 1\n",
      "2021-07-29 14:01:07,872 : INFO : EPOCH 1 - PROGRESS: at 85.92% examples, 44198 words/s, in_qsize 7, out_qsize 0\n",
      "2021-07-29 14:01:08,978 : INFO : EPOCH 1 - PROGRESS: at 87.86% examples, 44220 words/s, in_qsize 7, out_qsize 0\n",
      "2021-07-29 14:01:10,169 : INFO : EPOCH 1 - PROGRESS: at 90.03% examples, 44162 words/s, in_qsize 7, out_qsize 0\n",
      "2021-07-29 14:01:11,376 : INFO : EPOCH 1 - PROGRESS: at 92.06% examples, 44083 words/s, in_qsize 6, out_qsize 1\n",
      "2021-07-29 14:01:12,469 : INFO : EPOCH 1 - PROGRESS: at 94.46% examples, 44267 words/s, in_qsize 8, out_qsize 0\n",
      "2021-07-29 14:01:13,478 : INFO : EPOCH 1 - PROGRESS: at 96.42% examples, 44356 words/s, in_qsize 7, out_qsize 0\n",
      "2021-07-29 14:01:14,886 : INFO : EPOCH 1 - PROGRESS: at 98.11% examples, 43976 words/s, in_qsize 6, out_qsize 0\n",
      "2021-07-29 14:01:15,166 : INFO : worker thread finished; awaiting finish of 3 more threads\n",
      "2021-07-29 14:01:15,180 : INFO : worker thread finished; awaiting finish of 2 more threads\n",
      "2021-07-29 14:01:15,387 : INFO : worker thread finished; awaiting finish of 1 more threads\n"
     ]
    },
    {
     "name": "stderr",
     "output_type": "stream",
     "text": [
      "2021-07-29 14:01:15,476 : INFO : worker thread finished; awaiting finish of 0 more threads\n",
      "2021-07-29 14:01:15,478 : INFO : EPOCH - 1 : training on 2988089 raw words (2494348 effective words) took 56.3s, 44298 effective words/s\n",
      "2021-07-29 14:01:16,672 : INFO : EPOCH 2 - PROGRESS: at 1.02% examples, 20789 words/s, in_qsize 5, out_qsize 2\n",
      "2021-07-29 14:01:17,678 : INFO : EPOCH 2 - PROGRESS: at 3.68% examples, 41343 words/s, in_qsize 7, out_qsize 0\n",
      "2021-07-29 14:01:19,070 : INFO : EPOCH 2 - PROGRESS: at 5.64% examples, 39129 words/s, in_qsize 7, out_qsize 0\n",
      "2021-07-29 14:01:20,072 : INFO : EPOCH 2 - PROGRESS: at 7.58% examples, 41409 words/s, in_qsize 7, out_qsize 0\n",
      "2021-07-29 14:01:21,269 : INFO : EPOCH 2 - PROGRESS: at 9.51% examples, 41440 words/s, in_qsize 7, out_qsize 0\n",
      "2021-07-29 14:01:22,273 : INFO : EPOCH 2 - PROGRESS: at 11.58% examples, 42610 words/s, in_qsize 7, out_qsize 0\n",
      "2021-07-29 14:01:23,373 : INFO : EPOCH 2 - PROGRESS: at 13.18% examples, 41919 words/s, in_qsize 8, out_qsize 2\n",
      "2021-07-29 14:01:24,472 : INFO : EPOCH 2 - PROGRESS: at 15.33% examples, 43165 words/s, in_qsize 6, out_qsize 1\n",
      "2021-07-29 14:01:25,972 : INFO : EPOCH 2 - PROGRESS: at 17.57% examples, 42500 words/s, in_qsize 6, out_qsize 1\n",
      "2021-07-29 14:01:27,173 : INFO : EPOCH 2 - PROGRESS: at 19.89% examples, 43104 words/s, in_qsize 7, out_qsize 0\n",
      "2021-07-29 14:01:28,375 : INFO : EPOCH 2 - PROGRESS: at 22.50% examples, 44225 words/s, in_qsize 7, out_qsize 0\n",
      "2021-07-29 14:01:29,469 : INFO : EPOCH 2 - PROGRESS: at 24.62% examples, 44314 words/s, in_qsize 7, out_qsize 0\n",
      "2021-07-29 14:01:30,568 : INFO : EPOCH 2 - PROGRESS: at 26.28% examples, 43839 words/s, in_qsize 7, out_qsize 0\n",
      "2021-07-29 14:01:31,693 : INFO : EPOCH 2 - PROGRESS: at 28.16% examples, 43856 words/s, in_qsize 7, out_qsize 0\n",
      "2021-07-29 14:01:32,778 : INFO : EPOCH 2 - PROGRESS: at 30.16% examples, 43992 words/s, in_qsize 7, out_qsize 0\n",
      "2021-07-29 14:01:34,071 : INFO : EPOCH 2 - PROGRESS: at 32.50% examples, 44034 words/s, in_qsize 7, out_qsize 0\n",
      "2021-07-29 14:01:35,368 : INFO : EPOCH 2 - PROGRESS: at 34.47% examples, 43654 words/s, in_qsize 8, out_qsize 0\n",
      "2021-07-29 14:01:36,566 : INFO : EPOCH 2 - PROGRESS: at 37.01% examples, 44323 words/s, in_qsize 7, out_qsize 0\n",
      "2021-07-29 14:01:37,576 : INFO : EPOCH 2 - PROGRESS: at 39.11% examples, 44557 words/s, in_qsize 7, out_qsize 0\n",
      "2021-07-29 14:01:38,674 : INFO : EPOCH 2 - PROGRESS: at 40.48% examples, 43870 words/s, in_qsize 7, out_qsize 0\n",
      "2021-07-29 14:01:39,867 : INFO : EPOCH 2 - PROGRESS: at 42.46% examples, 43771 words/s, in_qsize 8, out_qsize 0\n",
      "2021-07-29 14:01:41,166 : INFO : EPOCH 2 - PROGRESS: at 44.74% examples, 43799 words/s, in_qsize 7, out_qsize 0\n",
      "2021-07-29 14:01:42,272 : INFO : EPOCH 2 - PROGRESS: at 46.47% examples, 43537 words/s, in_qsize 8, out_qsize 0\n",
      "2021-07-29 14:01:43,767 : INFO : EPOCH 2 - PROGRESS: at 49.04% examples, 43593 words/s, in_qsize 7, out_qsize 0\n",
      "2021-07-29 14:01:44,769 : INFO : EPOCH 2 - PROGRESS: at 51.37% examples, 44085 words/s, in_qsize 7, out_qsize 0\n",
      "2021-07-29 14:01:45,973 : INFO : EPOCH 2 - PROGRESS: at 52.93% examples, 43698 words/s, in_qsize 7, out_qsize 0\n",
      "2021-07-29 14:01:47,181 : INFO : EPOCH 2 - PROGRESS: at 54.88% examples, 43605 words/s, in_qsize 6, out_qsize 1\n",
      "2021-07-29 14:01:48,275 : INFO : EPOCH 2 - PROGRESS: at 57.58% examples, 44169 words/s, in_qsize 7, out_qsize 0\n",
      "2021-07-29 14:01:49,380 : INFO : EPOCH 2 - PROGRESS: at 59.25% examples, 43952 words/s, in_qsize 7, out_qsize 0\n",
      "2021-07-29 14:01:50,774 : INFO : EPOCH 2 - PROGRESS: at 61.28% examples, 43635 words/s, in_qsize 8, out_qsize 3\n",
      "2021-07-29 14:01:52,069 : INFO : EPOCH 2 - PROGRESS: at 64.00% examples, 43907 words/s, in_qsize 7, out_qsize 0\n",
      "2021-07-29 14:01:53,174 : INFO : EPOCH 2 - PROGRESS: at 66.13% examples, 43945 words/s, in_qsize 7, out_qsize 0\n",
      "2021-07-29 14:01:54,179 : INFO : EPOCH 2 - PROGRESS: at 68.05% examples, 44093 words/s, in_qsize 7, out_qsize 0\n",
      "2021-07-29 14:01:55,571 : INFO : EPOCH 2 - PROGRESS: at 69.97% examples, 43800 words/s, in_qsize 7, out_qsize 0\n",
      "2021-07-29 14:01:56,668 : INFO : EPOCH 2 - PROGRESS: at 71.99% examples, 43834 words/s, in_qsize 8, out_qsize 1\n",
      "2021-07-29 14:01:57,678 : INFO : EPOCH 2 - PROGRESS: at 73.65% examples, 43770 words/s, in_qsize 5, out_qsize 2\n",
      "2021-07-29 14:01:58,875 : INFO : EPOCH 2 - PROGRESS: at 75.96% examples, 43893 words/s, in_qsize 6, out_qsize 1\n",
      "2021-07-29 14:02:00,167 : INFO : EPOCH 2 - PROGRESS: at 78.38% examples, 43929 words/s, in_qsize 7, out_qsize 0\n",
      "2021-07-29 14:02:01,271 : INFO : EPOCH 2 - PROGRESS: at 80.44% examples, 43953 words/s, in_qsize 7, out_qsize 0\n",
      "2021-07-29 14:02:02,669 : INFO : EPOCH 2 - PROGRESS: at 82.67% examples, 43882 words/s, in_qsize 6, out_qsize 1\n",
      "2021-07-29 14:02:03,670 : INFO : EPOCH 2 - PROGRESS: at 84.65% examples, 44003 words/s, in_qsize 8, out_qsize 0\n",
      "2021-07-29 14:02:04,866 : INFO : EPOCH 2 - PROGRESS: at 86.63% examples, 43940 words/s, in_qsize 8, out_qsize 0\n",
      "2021-07-29 14:02:06,178 : INFO : EPOCH 2 - PROGRESS: at 88.98% examples, 43949 words/s, in_qsize 7, out_qsize 0\n",
      "2021-07-29 14:02:07,270 : INFO : EPOCH 2 - PROGRESS: at 91.02% examples, 43978 words/s, in_qsize 7, out_qsize 0\n",
      "2021-07-29 14:02:08,566 : INFO : EPOCH 2 - PROGRESS: at 93.48% examples, 43984 words/s, in_qsize 7, out_qsize 0\n",
      "2021-07-29 14:02:09,669 : INFO : EPOCH 2 - PROGRESS: at 95.15% examples, 43860 words/s, in_qsize 7, out_qsize 0\n",
      "2021-07-29 14:02:10,673 : INFO : EPOCH 2 - PROGRESS: at 97.08% examples, 43950 words/s, in_qsize 7, out_qsize 0\n",
      "2021-07-29 14:02:11,666 : INFO : worker thread finished; awaiting finish of 3 more threads\n",
      "2021-07-29 14:02:11,680 : INFO : EPOCH 2 - PROGRESS: at 99.30% examples, 44100 words/s, in_qsize 2, out_qsize 1\n",
      "2021-07-29 14:02:11,681 : INFO : worker thread finished; awaiting finish of 2 more threads\n",
      "2021-07-29 14:02:11,782 : INFO : worker thread finished; awaiting finish of 1 more threads\n",
      "2021-07-29 14:02:11,783 : INFO : worker thread finished; awaiting finish of 0 more threads\n",
      "2021-07-29 14:02:11,867 : INFO : EPOCH - 2 : training on 2988089 raw words (2494727 effective words) took 56.4s, 44247 effective words/s\n",
      "2021-07-29 14:02:12,889 : INFO : EPOCH 3 - PROGRESS: at 1.01% examples, 24326 words/s, in_qsize 7, out_qsize 0\n",
      "2021-07-29 14:02:14,375 : INFO : EPOCH 3 - PROGRESS: at 3.68% examples, 36250 words/s, in_qsize 7, out_qsize 0\n",
      "2021-07-29 14:02:15,375 : INFO : EPOCH 3 - PROGRESS: at 5.60% examples, 40025 words/s, in_qsize 8, out_qsize 0\n",
      "2021-07-29 14:02:16,486 : INFO : EPOCH 3 - PROGRESS: at 7.54% examples, 41212 words/s, in_qsize 7, out_qsize 0\n",
      "2021-07-29 14:02:17,672 : INFO : EPOCH 3 - PROGRESS: at 9.53% examples, 41316 words/s, in_qsize 8, out_qsize 1\n",
      "2021-07-29 14:02:18,970 : INFO : EPOCH 3 - PROGRESS: at 12.18% examples, 43112 words/s, in_qsize 7, out_qsize 0\n",
      "2021-07-29 14:02:20,271 : INFO : EPOCH 3 - PROGRESS: at 14.05% examples, 42299 words/s, in_qsize 8, out_qsize 1\n",
      "2021-07-29 14:02:21,467 : INFO : EPOCH 3 - PROGRESS: at 16.30% examples, 43022 words/s, in_qsize 8, out_qsize 0\n",
      "2021-07-29 14:02:22,566 : INFO : EPOCH 3 - PROGRESS: at 18.23% examples, 43236 words/s, in_qsize 7, out_qsize 0\n",
      "2021-07-29 14:02:23,882 : INFO : EPOCH 3 - PROGRESS: at 20.21% examples, 42640 words/s, in_qsize 6, out_qsize 1\n",
      "2021-07-29 14:02:24,966 : INFO : EPOCH 3 - PROGRESS: at 22.52% examples, 43527 words/s, in_qsize 7, out_qsize 0\n",
      "2021-07-29 14:02:25,967 : INFO : EPOCH 3 - PROGRESS: at 24.32% examples, 43380 words/s, in_qsize 6, out_qsize 1\n",
      "2021-07-29 14:02:27,178 : INFO : EPOCH 3 - PROGRESS: at 26.52% examples, 43719 words/s, in_qsize 7, out_qsize 0\n",
      "2021-07-29 14:02:28,274 : INFO : EPOCH 3 - PROGRESS: at 28.49% examples, 43852 words/s, in_qsize 7, out_qsize 0\n",
      "2021-07-29 14:02:29,290 : INFO : EPOCH 3 - PROGRESS: at 30.16% examples, 43680 words/s, in_qsize 7, out_qsize 0\n",
      "2021-07-29 14:02:30,388 : INFO : EPOCH 3 - PROGRESS: at 31.89% examples, 43327 words/s, in_qsize 7, out_qsize 0\n",
      "2021-07-29 14:02:31,483 : INFO : EPOCH 3 - PROGRESS: at 33.80% examples, 43443 words/s, in_qsize 8, out_qsize 2\n",
      "2021-07-29 14:02:32,496 : INFO : EPOCH 3 - PROGRESS: at 35.41% examples, 43283 words/s, in_qsize 7, out_qsize 0\n",
      "2021-07-29 14:02:33,770 : INFO : EPOCH 3 - PROGRESS: at 37.76% examples, 43427 words/s, in_qsize 7, out_qsize 0\n"
     ]
    },
    {
     "name": "stderr",
     "output_type": "stream",
     "text": [
      "2021-07-29 14:02:34,968 : INFO : EPOCH 3 - PROGRESS: at 39.85% examples, 43332 words/s, in_qsize 7, out_qsize 0\n",
      "2021-07-29 14:02:36,096 : INFO : EPOCH 3 - PROGRESS: at 42.16% examples, 43709 words/s, in_qsize 7, out_qsize 0\n",
      "2021-07-29 14:02:37,198 : INFO : EPOCH 3 - PROGRESS: at 43.81% examples, 43439 words/s, in_qsize 7, out_qsize 0\n",
      "2021-07-29 14:02:38,472 : INFO : EPOCH 3 - PROGRESS: at 46.47% examples, 43840 words/s, in_qsize 8, out_qsize 0\n",
      "2021-07-29 14:02:39,902 : INFO : EPOCH 3 - PROGRESS: at 48.40% examples, 43385 words/s, in_qsize 7, out_qsize 0\n",
      "2021-07-29 14:02:41,199 : INFO : EPOCH 3 - PROGRESS: at 50.99% examples, 43740 words/s, in_qsize 7, out_qsize 0\n",
      "2021-07-29 14:02:42,418 : INFO : EPOCH 3 - PROGRESS: at 52.93% examples, 43617 words/s, in_qsize 7, out_qsize 0\n",
      "2021-07-29 14:02:43,480 : INFO : EPOCH 3 - PROGRESS: at 55.57% examples, 44245 words/s, in_qsize 7, out_qsize 0\n",
      "2021-07-29 14:02:44,766 : INFO : EPOCH 3 - PROGRESS: at 57.58% examples, 44021 words/s, in_qsize 7, out_qsize 0\n",
      "2021-07-29 14:02:45,979 : INFO : EPOCH 3 - PROGRESS: at 59.25% examples, 43678 words/s, in_qsize 7, out_qsize 0\n",
      "2021-07-29 14:02:47,268 : INFO : EPOCH 3 - PROGRESS: at 61.68% examples, 43725 words/s, in_qsize 6, out_qsize 1\n",
      "2021-07-29 14:02:48,374 : INFO : EPOCH 3 - PROGRESS: at 63.66% examples, 43767 words/s, in_qsize 8, out_qsize 2\n",
      "2021-07-29 14:02:49,378 : INFO : EPOCH 3 - PROGRESS: at 65.42% examples, 43708 words/s, in_qsize 6, out_qsize 1\n",
      "2021-07-29 14:02:50,569 : INFO : EPOCH 3 - PROGRESS: at 67.70% examples, 43866 words/s, in_qsize 7, out_qsize 1\n",
      "2021-07-29 14:02:51,572 : INFO : EPOCH 3 - PROGRESS: at 69.65% examples, 44009 words/s, in_qsize 7, out_qsize 0\n",
      "2021-07-29 14:02:52,586 : INFO : EPOCH 3 - PROGRESS: at 71.66% examples, 44132 words/s, in_qsize 7, out_qsize 0\n",
      "2021-07-29 14:02:53,666 : INFO : EPOCH 3 - PROGRESS: at 73.60% examples, 44177 words/s, in_qsize 7, out_qsize 0\n",
      "2021-07-29 14:02:54,867 : INFO : EPOCH 3 - PROGRESS: at 75.28% examples, 43904 words/s, in_qsize 8, out_qsize 0\n",
      "2021-07-29 14:02:55,872 : INFO : EPOCH 3 - PROGRESS: at 77.38% examples, 44035 words/s, in_qsize 7, out_qsize 0\n",
      "2021-07-29 14:02:57,366 : INFO : EPOCH 3 - PROGRESS: at 79.77% examples, 43861 words/s, in_qsize 7, out_qsize 0\n",
      "2021-07-29 14:02:58,376 : INFO : EPOCH 3 - PROGRESS: at 81.77% examples, 43977 words/s, in_qsize 7, out_qsize 0\n",
      "2021-07-29 14:02:59,567 : INFO : EPOCH 3 - PROGRESS: at 83.65% examples, 43925 words/s, in_qsize 7, out_qsize 0\n",
      "2021-07-29 14:03:00,671 : INFO : EPOCH 3 - PROGRESS: at 85.62% examples, 43944 words/s, in_qsize 7, out_qsize 0\n",
      "2021-07-29 14:03:01,779 : INFO : EPOCH 3 - PROGRESS: at 87.51% examples, 43965 words/s, in_qsize 7, out_qsize 0\n",
      "2021-07-29 14:03:03,380 : INFO : EPOCH 3 - PROGRESS: at 90.37% examples, 43899 words/s, in_qsize 8, out_qsize 1\n",
      "2021-07-29 14:03:04,572 : INFO : EPOCH 3 - PROGRESS: at 93.11% examples, 44136 words/s, in_qsize 7, out_qsize 0\n",
      "2021-07-29 14:03:05,768 : INFO : EPOCH 3 - PROGRESS: at 95.10% examples, 44084 words/s, in_qsize 7, out_qsize 0\n",
      "2021-07-29 14:03:06,968 : INFO : EPOCH 3 - PROGRESS: at 97.10% examples, 44019 words/s, in_qsize 7, out_qsize 0\n",
      "2021-07-29 14:03:07,777 : INFO : worker thread finished; awaiting finish of 3 more threads\n",
      "2021-07-29 14:03:08,071 : INFO : EPOCH 3 - PROGRESS: at 99.30% examples, 44089 words/s, in_qsize 2, out_qsize 1\n",
      "2021-07-29 14:03:08,073 : INFO : worker thread finished; awaiting finish of 2 more threads\n",
      "2021-07-29 14:03:08,168 : INFO : worker thread finished; awaiting finish of 1 more threads\n",
      "2021-07-29 14:03:08,169 : INFO : worker thread finished; awaiting finish of 0 more threads\n",
      "2021-07-29 14:03:08,173 : INFO : EPOCH - 3 : training on 2988089 raw words (2494149 effective words) took 56.3s, 44300 effective words/s\n",
      "2021-07-29 14:03:09,673 : INFO : EPOCH 4 - PROGRESS: at 1.97% examples, 33313 words/s, in_qsize 7, out_qsize 0\n",
      "2021-07-29 14:03:10,884 : INFO : EPOCH 4 - PROGRESS: at 4.29% examples, 39674 words/s, in_qsize 7, out_qsize 0\n",
      "2021-07-29 14:03:11,981 : INFO : EPOCH 4 - PROGRESS: at 6.26% examples, 41308 words/s, in_qsize 8, out_qsize 0\n",
      "2021-07-29 14:03:13,080 : INFO : EPOCH 4 - PROGRESS: at 8.21% examples, 42175 words/s, in_qsize 7, out_qsize 0\n",
      "2021-07-29 14:03:14,266 : INFO : EPOCH 4 - PROGRESS: at 9.85% examples, 40746 words/s, in_qsize 7, out_qsize 0\n",
      "2021-07-29 14:03:15,266 : INFO : EPOCH 4 - PROGRESS: at 11.87% examples, 42002 words/s, in_qsize 7, out_qsize 0\n",
      "2021-07-29 14:03:16,375 : INFO : EPOCH 4 - PROGRESS: at 13.74% examples, 42336 words/s, in_qsize 7, out_qsize 0\n",
      "2021-07-29 14:03:17,574 : INFO : EPOCH 4 - PROGRESS: at 15.66% examples, 42184 words/s, in_qsize 7, out_qsize 0\n",
      "2021-07-29 14:03:18,577 : INFO : EPOCH 4 - PROGRESS: at 17.58% examples, 42886 words/s, in_qsize 7, out_qsize 0\n",
      "2021-07-29 14:03:19,773 : INFO : EPOCH 4 - PROGRESS: at 19.26% examples, 42027 words/s, in_qsize 5, out_qsize 2\n",
      "2021-07-29 14:03:20,779 : INFO : EPOCH 4 - PROGRESS: at 21.22% examples, 42620 words/s, in_qsize 7, out_qsize 0\n",
      "2021-07-29 14:03:21,974 : INFO : EPOCH 4 - PROGRESS: at 23.26% examples, 42511 words/s, in_qsize 7, out_qsize 0\n",
      "2021-07-29 14:03:23,076 : INFO : EPOCH 4 - PROGRESS: at 25.94% examples, 43831 words/s, in_qsize 7, out_qsize 0\n",
      "2021-07-29 14:03:24,368 : INFO : EPOCH 4 - PROGRESS: at 27.84% examples, 43394 words/s, in_qsize 7, out_qsize 0\n",
      "2021-07-29 14:03:25,585 : INFO : EPOCH 4 - PROGRESS: at 29.82% examples, 43216 words/s, in_qsize 7, out_qsize 0\n",
      "2021-07-29 14:03:26,675 : INFO : EPOCH 4 - PROGRESS: at 31.56% examples, 42918 words/s, in_qsize 7, out_qsize 0\n",
      "2021-07-29 14:03:27,768 : INFO : EPOCH 4 - PROGRESS: at 33.47% examples, 43060 words/s, in_qsize 7, out_qsize 0\n",
      "2021-07-29 14:03:28,770 : INFO : EPOCH 4 - PROGRESS: at 35.43% examples, 43355 words/s, in_qsize 7, out_qsize 0\n",
      "2021-07-29 14:03:29,772 : INFO : EPOCH 4 - PROGRESS: at 37.11% examples, 43266 words/s, in_qsize 7, out_qsize 0\n",
      "2021-07-29 14:03:30,868 : INFO : EPOCH 4 - PROGRESS: at 39.50% examples, 43741 words/s, in_qsize 7, out_qsize 0\n",
      "2021-07-29 14:03:31,980 : INFO : EPOCH 4 - PROGRESS: at 41.46% examples, 43782 words/s, in_qsize 7, out_qsize 0\n",
      "2021-07-29 14:03:33,178 : INFO : EPOCH 4 - PROGRESS: at 43.06% examples, 43349 words/s, in_qsize 7, out_qsize 0\n",
      "2021-07-29 14:03:34,201 : INFO : EPOCH 4 - PROGRESS: at 45.44% examples, 43857 words/s, in_qsize 7, out_qsize 0\n",
      "2021-07-29 14:03:35,342 : INFO : EPOCH 4 - PROGRESS: at 47.15% examples, 43541 words/s, in_qsize 7, out_qsize 0\n",
      "2021-07-29 14:03:36,567 : INFO : EPOCH 4 - PROGRESS: at 49.06% examples, 43422 words/s, in_qsize 7, out_qsize 0\n",
      "2021-07-29 14:03:37,577 : INFO : EPOCH 4 - PROGRESS: at 51.37% examples, 43907 words/s, in_qsize 7, out_qsize 0\n",
      "2021-07-29 14:03:38,676 : INFO : EPOCH 4 - PROGRESS: at 52.93% examples, 43684 words/s, in_qsize 7, out_qsize 0\n",
      "2021-07-29 14:03:39,683 : INFO : EPOCH 4 - PROGRESS: at 54.54% examples, 43599 words/s, in_qsize 8, out_qsize 1\n",
      "2021-07-29 14:03:40,773 : INFO : EPOCH 4 - PROGRESS: at 56.19% examples, 43410 words/s, in_qsize 7, out_qsize 1\n",
      "2021-07-29 14:03:41,889 : INFO : EPOCH 4 - PROGRESS: at 58.56% examples, 43691 words/s, in_qsize 7, out_qsize 0\n",
      "2021-07-29 14:03:43,276 : INFO : EPOCH 4 - PROGRESS: at 60.97% examples, 43621 words/s, in_qsize 7, out_qsize 0\n",
      "2021-07-29 14:03:44,368 : INFO : EPOCH 4 - PROGRESS: at 62.97% examples, 43689 words/s, in_qsize 7, out_qsize 0\n",
      "2021-07-29 14:03:45,372 : INFO : EPOCH 4 - PROGRESS: at 64.76% examples, 43627 words/s, in_qsize 7, out_qsize 0\n",
      "2021-07-29 14:03:46,470 : INFO : EPOCH 4 - PROGRESS: at 66.68% examples, 43683 words/s, in_qsize 7, out_qsize 0\n",
      "2021-07-29 14:03:47,768 : INFO : EPOCH 4 - PROGRESS: at 68.67% examples, 43513 words/s, in_qsize 7, out_qsize 0\n",
      "2021-07-29 14:03:49,067 : INFO : EPOCH 4 - PROGRESS: at 71.66% examples, 43946 words/s, in_qsize 7, out_qsize 0\n",
      "2021-07-29 14:03:50,078 : INFO : EPOCH 4 - PROGRESS: at 73.36% examples, 43867 words/s, in_qsize 7, out_qsize 0\n",
      "2021-07-29 14:03:51,366 : INFO : EPOCH 4 - PROGRESS: at 75.30% examples, 43715 words/s, in_qsize 7, out_qsize 0\n",
      "2021-07-29 14:03:52,566 : INFO : EPOCH 4 - PROGRESS: at 78.01% examples, 44025 words/s, in_qsize 7, out_qsize 0\n",
      "2021-07-29 14:03:53,672 : INFO : EPOCH 4 - PROGRESS: at 80.13% examples, 44045 words/s, in_qsize 7, out_qsize 0\n"
     ]
    },
    {
     "name": "stderr",
     "output_type": "stream",
     "text": [
      "2021-07-29 14:03:54,884 : INFO : EPOCH 4 - PROGRESS: at 82.06% examples, 43971 words/s, in_qsize 7, out_qsize 0\n",
      "2021-07-29 14:03:55,973 : INFO : EPOCH 4 - PROGRESS: at 84.02% examples, 44010 words/s, in_qsize 7, out_qsize 0\n",
      "2021-07-29 14:03:57,075 : INFO : EPOCH 4 - PROGRESS: at 85.94% examples, 44032 words/s, in_qsize 7, out_qsize 0\n",
      "2021-07-29 14:03:58,575 : INFO : EPOCH 4 - PROGRESS: at 88.21% examples, 43875 words/s, in_qsize 8, out_qsize 0\n",
      "2021-07-29 14:03:59,580 : INFO : EPOCH 4 - PROGRESS: at 90.68% examples, 44145 words/s, in_qsize 7, out_qsize 0\n",
      "2021-07-29 14:04:00,789 : INFO : EPOCH 4 - PROGRESS: at 92.40% examples, 43905 words/s, in_qsize 7, out_qsize 0\n",
      "2021-07-29 14:04:01,969 : INFO : EPOCH 4 - PROGRESS: at 94.44% examples, 43862 words/s, in_qsize 8, out_qsize 0\n",
      "2021-07-29 14:04:03,166 : INFO : EPOCH 4 - PROGRESS: at 97.12% examples, 44111 words/s, in_qsize 7, out_qsize 0\n",
      "2021-07-29 14:04:04,174 : INFO : EPOCH 4 - PROGRESS: at 98.83% examples, 44055 words/s, in_qsize 4, out_qsize 0\n",
      "2021-07-29 14:04:04,179 : INFO : worker thread finished; awaiting finish of 3 more threads\n",
      "2021-07-29 14:04:04,370 : INFO : worker thread finished; awaiting finish of 2 more threads\n",
      "2021-07-29 14:04:04,488 : INFO : worker thread finished; awaiting finish of 1 more threads\n",
      "2021-07-29 14:04:04,568 : INFO : worker thread finished; awaiting finish of 0 more threads\n",
      "2021-07-29 14:04:04,569 : INFO : EPOCH - 4 : training on 2988089 raw words (2494116 effective words) took 56.4s, 44234 effective words/s\n",
      "2021-07-29 14:04:05,577 : INFO : EPOCH 5 - PROGRESS: at 1.36% examples, 32981 words/s, in_qsize 8, out_qsize 0\n",
      "2021-07-29 14:04:06,666 : INFO : EPOCH 5 - PROGRESS: at 2.98% examples, 35496 words/s, in_qsize 7, out_qsize 0\n",
      "2021-07-29 14:04:07,766 : INFO : EPOCH 5 - PROGRESS: at 4.68% examples, 36158 words/s, in_qsize 6, out_qsize 1\n",
      "2021-07-29 14:04:08,780 : INFO : EPOCH 5 - PROGRESS: at 6.90% examples, 41269 words/s, in_qsize 7, out_qsize 0\n",
      "2021-07-29 14:04:09,976 : INFO : EPOCH 5 - PROGRESS: at 8.88% examples, 41289 words/s, in_qsize 6, out_qsize 1\n",
      "2021-07-29 14:04:11,072 : INFO : EPOCH 5 - PROGRESS: at 10.86% examples, 41971 words/s, in_qsize 7, out_qsize 0\n",
      "2021-07-29 14:04:12,171 : INFO : EPOCH 5 - PROGRESS: at 12.86% examples, 42445 words/s, in_qsize 7, out_qsize 0\n",
      "2021-07-29 14:04:13,272 : INFO : EPOCH 5 - PROGRESS: at 14.35% examples, 41778 words/s, in_qsize 8, out_qsize 2\n",
      "2021-07-29 14:04:14,278 : INFO : EPOCH 5 - PROGRESS: at 16.30% examples, 42524 words/s, in_qsize 7, out_qsize 0\n",
      "2021-07-29 14:04:15,476 : INFO : EPOCH 5 - PROGRESS: at 18.29% examples, 42420 words/s, in_qsize 8, out_qsize 1\n",
      "2021-07-29 14:04:16,669 : INFO : EPOCH 5 - PROGRESS: at 20.53% examples, 43025 words/s, in_qsize 8, out_qsize 0\n",
      "2021-07-29 14:04:17,866 : INFO : EPOCH 5 - PROGRESS: at 22.50% examples, 42885 words/s, in_qsize 6, out_qsize 1\n",
      "2021-07-29 14:04:18,875 : INFO : EPOCH 5 - PROGRESS: at 24.64% examples, 43329 words/s, in_qsize 7, out_qsize 0\n",
      "2021-07-29 14:04:19,967 : INFO : EPOCH 5 - PROGRESS: at 26.60% examples, 43484 words/s, in_qsize 7, out_qsize 0\n",
      "2021-07-29 14:04:21,075 : INFO : EPOCH 5 - PROGRESS: at 28.52% examples, 43580 words/s, in_qsize 7, out_qsize 0\n",
      "2021-07-29 14:04:22,467 : INFO : EPOCH 5 - PROGRESS: at 30.79% examples, 43429 words/s, in_qsize 6, out_qsize 1\n",
      "2021-07-29 14:04:23,667 : INFO : EPOCH 5 - PROGRESS: at 32.83% examples, 43292 words/s, in_qsize 8, out_qsize 1\n",
      "2021-07-29 14:04:25,066 : INFO : EPOCH 5 - PROGRESS: at 35.40% examples, 43575 words/s, in_qsize 8, out_qsize 0\n",
      "2021-07-29 14:04:26,170 : INFO : EPOCH 5 - PROGRESS: at 37.32% examples, 43654 words/s, in_qsize 7, out_qsize 0\n",
      "2021-07-29 14:04:27,180 : INFO : EPOCH 5 - PROGRESS: at 39.78% examples, 44273 words/s, in_qsize 7, out_qsize 0\n",
      "2021-07-29 14:04:28,286 : INFO : EPOCH 5 - PROGRESS: at 41.44% examples, 43952 words/s, in_qsize 7, out_qsize 0\n",
      "2021-07-29 14:04:29,294 : INFO : EPOCH 5 - PROGRESS: at 43.11% examples, 43831 words/s, in_qsize 7, out_qsize 0\n",
      "2021-07-29 14:04:30,567 : INFO : EPOCH 5 - PROGRESS: at 45.44% examples, 43906 words/s, in_qsize 7, out_qsize 0\n",
      "2021-07-29 14:04:31,777 : INFO : EPOCH 5 - PROGRESS: at 47.42% examples, 43785 words/s, in_qsize 7, out_qsize 0\n",
      "2021-07-29 14:04:32,869 : INFO : EPOCH 5 - PROGRESS: at 49.04% examples, 43570 words/s, in_qsize 7, out_qsize 0\n",
      "2021-07-29 14:04:33,973 : INFO : EPOCH 5 - PROGRESS: at 51.34% examples, 43913 words/s, in_qsize 7, out_qsize 0\n",
      "2021-07-29 14:04:35,073 : INFO : EPOCH 5 - PROGRESS: at 53.26% examples, 43950 words/s, in_qsize 7, out_qsize 0\n",
      "2021-07-29 14:04:36,170 : INFO : EPOCH 5 - PROGRESS: at 55.23% examples, 44000 words/s, in_qsize 7, out_qsize 0\n",
      "2021-07-29 14:04:37,666 : INFO : EPOCH 5 - PROGRESS: at 57.19% examples, 43508 words/s, in_qsize 7, out_qsize 0\n",
      "2021-07-29 14:04:38,780 : INFO : EPOCH 5 - PROGRESS: at 59.22% examples, 43543 words/s, in_qsize 5, out_qsize 2\n",
      "2021-07-29 14:04:40,271 : INFO : EPOCH 5 - PROGRESS: at 62.00% examples, 43586 words/s, in_qsize 7, out_qsize 0\n",
      "2021-07-29 14:04:41,271 : INFO : EPOCH 5 - PROGRESS: at 63.67% examples, 43536 words/s, in_qsize 7, out_qsize 0\n",
      "2021-07-29 14:04:42,670 : INFO : EPOCH 5 - PROGRESS: at 66.38% examples, 43687 words/s, in_qsize 7, out_qsize 0\n",
      "2021-07-29 14:04:43,678 : INFO : EPOCH 5 - PROGRESS: at 68.70% examples, 44048 words/s, in_qsize 7, out_qsize 0\n",
      "2021-07-29 14:04:45,069 : INFO : EPOCH 5 - PROGRESS: at 70.60% examples, 43760 words/s, in_qsize 7, out_qsize 0\n",
      "2021-07-29 14:04:46,083 : INFO : EPOCH 5 - PROGRESS: at 72.29% examples, 43690 words/s, in_qsize 7, out_qsize 1\n",
      "2021-07-29 14:04:47,167 : INFO : EPOCH 5 - PROGRESS: at 74.26% examples, 43740 words/s, in_qsize 7, out_qsize 0\n",
      "2021-07-29 14:04:48,371 : INFO : EPOCH 5 - PROGRESS: at 77.03% examples, 44050 words/s, in_qsize 7, out_qsize 0\n",
      "2021-07-29 14:04:49,466 : INFO : EPOCH 5 - PROGRESS: at 79.04% examples, 44084 words/s, in_qsize 8, out_qsize 0\n",
      "2021-07-29 14:04:50,567 : INFO : EPOCH 5 - PROGRESS: at 81.12% examples, 44108 words/s, in_qsize 7, out_qsize 0\n",
      "2021-07-29 14:04:51,675 : INFO : EPOCH 5 - PROGRESS: at 83.00% examples, 44133 words/s, in_qsize 7, out_qsize 0\n",
      "2021-07-29 14:04:52,767 : INFO : EPOCH 5 - PROGRESS: at 84.64% examples, 43989 words/s, in_qsize 8, out_qsize 0\n",
      "2021-07-29 14:04:53,968 : INFO : EPOCH 5 - PROGRESS: at 86.58% examples, 43924 words/s, in_qsize 7, out_qsize 0\n",
      "2021-07-29 14:04:55,067 : INFO : EPOCH 5 - PROGRESS: at 88.98% examples, 44119 words/s, in_qsize 7, out_qsize 0\n",
      "2021-07-29 14:04:56,268 : INFO : EPOCH 5 - PROGRESS: at 90.68% examples, 43895 words/s, in_qsize 6, out_qsize 1\n",
      "2021-07-29 14:04:57,473 : INFO : EPOCH 5 - PROGRESS: at 93.12% examples, 43977 words/s, in_qsize 7, out_qsize 0\n",
      "2021-07-29 14:04:58,676 : INFO : EPOCH 5 - PROGRESS: at 95.78% examples, 44225 words/s, in_qsize 7, out_qsize 0\n",
      "2021-07-29 14:05:00,067 : INFO : EPOCH 5 - PROGRESS: at 97.78% examples, 44004 words/s, in_qsize 7, out_qsize 0\n",
      "2021-07-29 14:05:00,576 : INFO : worker thread finished; awaiting finish of 3 more threads\n",
      "2021-07-29 14:05:00,587 : INFO : worker thread finished; awaiting finish of 2 more threads\n",
      "2021-07-29 14:05:00,768 : INFO : worker thread finished; awaiting finish of 1 more threads\n",
      "2021-07-29 14:05:00,774 : INFO : worker thread finished; awaiting finish of 0 more threads\n",
      "2021-07-29 14:05:00,775 : INFO : EPOCH - 5 : training on 2988089 raw words (2494390 effective words) took 56.2s, 44385 effective words/s\n",
      "2021-07-29 14:05:00,778 : INFO : Word2Vec lifecycle event {'msg': 'training on 14940445 raw words (12471730 effective words) took 281.7s, 44276 effective words/s', 'datetime': '2021-07-29T14:05:00.778419', 'gensim': '4.0.1', 'python': '3.7.4 (default, Nov  4 2020, 10:17:35) \\n[GCC 7.4.0]', 'platform': 'Linux-4.4.0-1128-aws-x86_64-with-debian-buster-sid', 'event': 'train'}\n",
      "2021-07-29 14:05:00,782 : INFO : Word2Vec lifecycle event {'params': 'Word2Vec(vocab=8160, vector_size=300, alpha=0.025)', 'datetime': '2021-07-29T14:05:00.782352', 'gensim': '4.0.1', 'python': '3.7.4 (default, Nov  4 2020, 10:17:35) \\n[GCC 7.4.0]', 'platform': 'Linux-4.4.0-1128-aws-x86_64-with-debian-buster-sid', 'event': 'created'}\n"
     ]
    }
   ],
   "source": [
    "from gensim.models import word2vec\n",
    "print(\"Training Model...\")\n",
    "model = word2vec.Word2Vec(sentences, workers=num_workers, min_count=min_word_count, window=context, sample=downsampling, vector_size=num_features)"
   ]
  },
  {
   "cell_type": "code",
   "execution_count": 16,
   "metadata": {},
   "outputs": [
    {
     "name": "stderr",
     "output_type": "stream",
     "text": [
      "2021-07-29 14:05:00,873 : INFO : Word2Vec lifecycle event {'fname_or_handle': '300features_40minwords_10context', 'separately': 'None', 'sep_limit': 10485760, 'ignore': frozenset(), 'datetime': '2021-07-29T14:05:00.873003', 'gensim': '4.0.1', 'python': '3.7.4 (default, Nov  4 2020, 10:17:35) \\n[GCC 7.4.0]', 'platform': 'Linux-4.4.0-1128-aws-x86_64-with-debian-buster-sid', 'event': 'saving'}\n",
      "2021-07-29 14:05:00,876 : INFO : not storing attribute cum_table\n",
      "2021-07-29 14:05:00,989 : INFO : saved 300features_40minwords_10context\n"
     ]
    }
   ],
   "source": [
    "model_name = \"300features_40minwords_10context\"\n",
    "model.save(model_name)"
   ]
  },
  {
   "cell_type": "code",
   "execution_count": 28,
   "metadata": {},
   "outputs": [],
   "source": [
    "def get_features(words, model, num_features):\n",
    "    feature_vector = np.zeros((num_features), dtype=np.float32)\n",
    "    num_words = 0\n",
    "    index2word_set = set(model.wv.index_to_key)\n",
    "    \n",
    "    for w in words:\n",
    "        if w in index2word_set:\n",
    "            num_words += 1\n",
    "            feature_vector = np.add(feature_vector, model.wv[w])\n",
    "            \n",
    "    feature_vector = np.divide(feature_vector, num_words)\n",
    "    return feature_vector\n"
   ]
  },
  {
   "cell_type": "code",
   "execution_count": 29,
   "metadata": {},
   "outputs": [],
   "source": [
    "def get_dataset(reviews, model, num_features):\n",
    "    dataset = list()\n",
    "    \n",
    "    for s in reviews:\n",
    "        dataset.append(get_features(s,model,num_features))\n",
    "    reviewFeatureVecs = np.stack(dataset)\n",
    "    \n",
    "    return reviewFeatureVecs"
   ]
  },
  {
   "cell_type": "code",
   "execution_count": 30,
   "metadata": {},
   "outputs": [],
   "source": [
    "test_data_vecs = get_dataset(sentences, model, num_features)"
   ]
  },
  {
   "cell_type": "code",
   "execution_count": 35,
   "metadata": {},
   "outputs": [],
   "source": [
    "from sklearn.model_selection import train_test_split\n",
    "import numpy as np\n",
    "\n",
    "X = test_data_vecs\n",
    "y = np.array(sentiments)\n",
    "\n",
    "RANDOM_SEED = 42\n",
    "TEST_SPLIT = 0.2\n",
    "\n",
    "X_train, X_eval, y_train, y_eval = train_test_split(X,y, test_size=TEST_SPLIT,random_state=RANDOM_SEED)"
   ]
  },
  {
   "cell_type": "code",
   "execution_count": 36,
   "metadata": {},
   "outputs": [
    {
     "name": "stderr",
     "output_type": "stream",
     "text": [
      "/usr/local/lib/python3.7/site-packages/sklearn/linear_model/_logistic.py:764: ConvergenceWarning: lbfgs failed to converge (status=1):\n",
      "STOP: TOTAL NO. of ITERATIONS REACHED LIMIT.\n",
      "\n",
      "Increase the number of iterations (max_iter) or scale the data as shown in:\n",
      "    https://scikit-learn.org/stable/modules/preprocessing.html\n",
      "Please also refer to the documentation for alternative solver options:\n",
      "    https://scikit-learn.org/stable/modules/linear_model.html#logistic-regression\n",
      "  extra_warning_msg=_LOGISTIC_SOLVER_CONVERGENCE_MSG)\n"
     ]
    },
    {
     "data": {
      "text/plain": [
       "LogisticRegression(class_weight='balanced')"
      ]
     },
     "execution_count": 36,
     "metadata": {},
     "output_type": "execute_result"
    }
   ],
   "source": [
    "from sklearn.linear_model import LogisticRegression\n",
    "\n",
    "lgs = LogisticRegression(class_weight='balanced')\n",
    "lgs.fit(X_train, y_train)"
   ]
  },
  {
   "cell_type": "code",
   "execution_count": 37,
   "metadata": {},
   "outputs": [
    {
     "name": "stdout",
     "output_type": "stream",
     "text": [
      "Accuracy: 0.866800\n"
     ]
    }
   ],
   "source": [
    "print(\"Accuracy: %f\"%lgs.score(X_eval, y_eval))"
   ]
  },
  {
   "cell_type": "code",
   "execution_count": 38,
   "metadata": {},
   "outputs": [],
   "source": [
    "TEST_CLEAN_DATA = \"test_clean.csv\"\n",
    "\n",
    "test_data = pd.read_csv(DATA_IN_PATH + TEST_CLEAN_DATA)\n",
    "\n",
    "test_review = list(test_data['review'])"
   ]
  },
  {
   "cell_type": "code",
   "execution_count": 39,
   "metadata": {},
   "outputs": [],
   "source": [
    "test_sentences = []\n",
    "for review in test_review:\n",
    "    test_sentences.append(review.split())"
   ]
  },
  {
   "cell_type": "code",
   "execution_count": 40,
   "metadata": {},
   "outputs": [],
   "source": [
    "test_data_vecs = get_dataset(test_sentences, model, num_features)"
   ]
  },
  {
   "cell_type": "code",
   "execution_count": 44,
   "metadata": {},
   "outputs": [],
   "source": [
    "DATA_OUT_PATH = './data_out/'\n",
    "test_predicted = lgs.predict(test_data_vecs)\n",
    "\n",
    "if not os.path.exists(DATA_OUT_PATH):\n",
    "    os.makedirs(DATA_OUT_PATH)\n",
    "ids = list(test_data['id'])\n",
    "answer_dataset = pd.DataFrame({'id':ids, 'sentiment': test_predicted})\n",
    "answer_dataset.to_csv(DATA_OUT_PATH + 'lgs_w2v_answer.csv', index=False, quoting = 3)"
   ]
  },
  {
   "cell_type": "code",
   "execution_count": null,
   "metadata": {},
   "outputs": [],
   "source": []
  }
 ],
 "metadata": {
  "kernelspec": {
   "display_name": "Python 3",
   "language": "python",
   "name": "python3"
  },
  "language_info": {
   "codemirror_mode": {
    "name": "ipython",
    "version": 3
   },
   "file_extension": ".py",
   "mimetype": "text/x-python",
   "name": "python",
   "nbconvert_exporter": "python",
   "pygments_lexer": "ipython3",
   "version": "3.7.4"
  }
 },
 "nbformat": 4,
 "nbformat_minor": 4
}
